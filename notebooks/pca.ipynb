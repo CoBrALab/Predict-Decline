{
 "cells": [
  {
   "cell_type": "code",
   "execution_count": 2,
   "metadata": {
    "collapsed": true
   },
   "outputs": [],
   "source": [
    "import numpy as np\n",
    "import pandas as pd\n",
    "import matplotlib.pyplot as plt\n",
    "from sklearn.decomposition import PCA\n",
    "import os\n",
    "import time"
   ]
  },
  {
   "cell_type": "code",
   "execution_count": 8,
   "metadata": {
    "collapsed": true
   },
   "outputs": [],
   "source": [
    "# Load bilteral cortical thickness values\n",
    "# For the participants used in trajectory modeling\n",
    "\n",
    "X = [] # cortical thickness\n",
    "\n",
    "for filename in os.listdir(\"ADNI1_tm/\"):\n",
    "    ct = np.loadtxt(\"ADNI1_tm/\"+filename, delimiter='\\n')\n",
    "    X.append(ct)"
   ]
  },
  {
   "cell_type": "code",
   "execution_count": 30,
   "metadata": {},
   "outputs": [
    {
     "name": "stdout",
     "output_type": "stream",
     "text": [
      "(4, 10)\n",
      "[7.27057816 2.83333354 2.28478342 0.75158022]\n",
      "2.5768942655901333e-32\n",
      "(5, 10)\n",
      "(5, 4)\n"
     ]
    }
   ],
   "source": [
    "# Test sklearn PCA implementation\n",
    "\n",
    "n_features = 10\n",
    "n_examples = 5\n",
    "dummy_X = np.random.randn(n_examples, n_features)\n",
    "pca = PCA(n_components=0.95, svd_solver='full')\n",
    "pca.fit(dummy_X)\n",
    "print(pca.components_.shape)\n",
    "print(pca.explained_variance_)\n",
    "#print(pca.explained_variance_ratio_)\n",
    "#print(pca.singular_values_)\n",
    "#print(pca.mean_)\n",
    "#print(pca.n_components_)\n",
    "print(pca.noise_variance_)\n",
    "\n",
    "pc = pca.components_\n",
    "dummy_X_reduced = dummy_X @ pc.T\n",
    "\n",
    "print(dummy_X.shape)\n",
    "print(dummy_X_reduced.shape)"
   ]
  },
  {
   "cell_type": "code",
   "execution_count": 38,
   "metadata": {
    "scrolled": true
   },
   "outputs": [
    {
     "name": "stdout",
     "output_type": "stream",
     "text": [
      "Time required with 1000 features, 114 examples and 50 components: 0.02219676971435547\n",
      "Time required with 1000 features, 114 examples and 100 components: 0.016184568405151367\n",
      "Time required with 1000 features, 114 examples and 200 components: 0.016007423400878906\n",
      "Time required with 1000 features, 114 examples and 500 components: 0.016399383544921875\n",
      "Time required with 1000 features, 114 examples and 1000 components: 0.016114234924316406\n"
     ]
    }
   ],
   "source": [
    "n_components = [50, 100, 200, 500, 1000]\n",
    "X = np.array(X)\n",
    "X_reduced = {}\n",
    "tstart = time.time()\n",
    "X_test = X[:, :1000]\n",
    "for n in n_components:\n",
    "    pca = PCA(n_components=n)\n",
    "    pca.fit(X_test)\n",
    "    pc = pca.components_\n",
    "    X_reduced[n] = X_test @ pc.T\n",
    "    print(\"Time required with {} features, {} examples and {} components: {}\".format(\n",
    "        X_test.shape[1], X_test.shape[0], n, time.time() - tstart))\n",
    "    tstart = time.time()"
   ]
  },
  {
   "cell_type": "code",
   "execution_count": 41,
   "metadata": {},
   "outputs": [
    {
     "name": "stdout",
     "output_type": "stream",
     "text": [
      "Time required with 10000 features, 114 examples and 50 components: 0.19234442710876465\n",
      "Time required with 10000 features, 114 examples and 100 components: 0.14414405822753906\n",
      "Time required with 10000 features, 114 examples and 200 components: 0.14352917671203613\n",
      "Time required with 10000 features, 114 examples and 500 components: 0.12734150886535645\n",
      "Time required with 10000 features, 114 examples and 1000 components: 0.14240145683288574\n"
     ]
    }
   ],
   "source": [
    "X_test = X[:, :10000]\n",
    "tstart = time.time()\n",
    "for n in n_components:\n",
    "    pca = PCA(n_components=n)\n",
    "    pca.fit(X_test)\n",
    "    pc = pca.components_\n",
    "    X_reduced[n] = X_test @ pc.T\n",
    "    print(\"Time required with {} features, {} examples and {} components: {}\".format(\n",
    "        X_test.shape[1], X_test.shape[0], n, time.time() - tstart))\n",
    "    tstart = time.time()"
   ]
  },
  {
   "cell_type": "code",
   "execution_count": 42,
   "metadata": {},
   "outputs": [
    {
     "name": "stdout",
     "output_type": "stream",
     "text": [
      "Time required with 81924 features, 114 examples and 50 components: 1.554361343383789\n",
      "Time required with 81924 features, 114 examples and 100 components: 2.107666492462158\n",
      "Time required with 81924 features, 114 examples and 200 components: 2.1994049549102783\n",
      "Time required with 81924 features, 114 examples and 500 components: 2.172401189804077\n",
      "Time required with 81924 features, 114 examples and 1000 components: 2.319671392440796\n"
     ]
    }
   ],
   "source": [
    "tstart = time.time()\n",
    "for n in n_components:\n",
    "    pca = PCA(n_components=n)\n",
    "    pca.fit(X)\n",
    "    pc = pca.components_\n",
    "    X_reduced[n] = X @ pc.T\n",
    "    print(\"Time required with {} features, {} examples and {} components: {}\".format(\n",
    "        X.shape[1], X.shape[0], n, time.time() - tstart))\n",
    "    tstart = time.time()"
   ]
  },
  {
   "cell_type": "code",
   "execution_count": 46,
   "metadata": {},
   "outputs": [
    {
     "name": "stdout",
     "output_type": "stream",
     "text": [
      "Time required with 1000 features, 114 examples, and 80% of the variance: 0.019865036010742188\n",
      "Number of components with 1000 features and 80% of the variance: 15\n",
      "Time required with 1000 features, 114 examples, and 90% of the variance: 0.01799750328063965\n",
      "Number of components with 1000 features and 90% of the variance: 30\n",
      "Time required with 1000 features, 114 examples, and 95% of the variance: 0.018140554428100586\n",
      "Number of components with 1000 features and 95% of the variance: 45\n",
      "Time required with 1000 features, 114 examples, and 99% of the variance: 0.016649723052978516\n",
      "Number of components with 1000 features and 99% of the variance: 78\n"
     ]
    }
   ],
   "source": [
    "frac_variance = [0.8, 0.9, 0.95, 0.99]\n",
    "tstart = time.time()\n",
    "X_test = X[:, :1000]\n",
    "for f in frac_variance:\n",
    "    pca = PCA(n_components=f, svd_solver='full')\n",
    "    pca.fit(X_test)\n",
    "    pc = pca.components_\n",
    "    X_reduced[n] = X_test @ pc.T\n",
    "    print(\"Time required with {} features, {} examples, and {:.0f}% of the variance: {}\".format(\n",
    "        X_test.shape[1], X_test.shape[0], f*100, time.time() - tstart))\n",
    "    print(\"Number of components with {} features and {:.0f}% of the variance: {}\".format(\n",
    "        X_test.shape[1], f*100, pca.n_components_))\n",
    "    tstart = time.time()"
   ]
  },
  {
   "cell_type": "code",
   "execution_count": 47,
   "metadata": {},
   "outputs": [
    {
     "name": "stdout",
     "output_type": "stream",
     "text": [
      "Time required with 10000 features, 114 examples, and 80% of the variance: 0.14493727684020996\n",
      "Number of components with 10000 features and 80% of the variance: 20\n",
      "Time required with 10000 features, 114 examples, and 90% of the variance: 0.13264703750610352\n",
      "Number of components with 10000 features and 90% of the variance: 36\n",
      "Time required with 10000 features, 114 examples, and 95% of the variance: 0.13455867767333984\n",
      "Number of components with 10000 features and 95% of the variance: 51\n",
      "Time required with 10000 features, 114 examples, and 99% of the variance: 0.14271950721740723\n",
      "Number of components with 10000 features and 99% of the variance: 83\n"
     ]
    }
   ],
   "source": [
    "tstart = time.time()\n",
    "X_test = X[:, :10000]\n",
    "for f in frac_variance:\n",
    "    pca = PCA(n_components=f, svd_solver='full')\n",
    "    pca.fit(X_test)\n",
    "    pc = pca.components_\n",
    "    X_reduced[n] = X_test @ pc.T\n",
    "    print(\"Time required with {} features, {} examples, and {:.0f}% of the variance: {}\".format(\n",
    "        X_test.shape[1], X_test.shape[0], f*100, time.time() - tstart))\n",
    "    print(\"Number of components with {} features and {:.0f}% of the variance: {}\".format(\n",
    "        X_test.shape[1], f*100, pca.n_components_))\n",
    "    tstart = time.time()"
   ]
  },
  {
   "cell_type": "code",
   "execution_count": 54,
   "metadata": {},
   "outputs": [
    {
     "name": "stdout",
     "output_type": "stream",
     "text": [
      "Time required with 81924 features, 114 examples, and 99% of the variance: 2.120217800140381\n",
      "Number of components with 81924 features and 99% of the variance: 92\n",
      "Time required with 81924 features, 114 examples, and 100% of the variance: 2.044703960418701\n",
      "Number of components with 81924 features and 100% of the variance: 109\n",
      "Time required with 81924 features, 114 examples, and 100% of the variance: 2.0641725063323975\n",
      "Number of components with 81924 features and 100% of the variance: 112\n",
      "Time required with 81924 features, 114 examples, and 100% of the variance: 2.0781493186950684\n",
      "Number of components with 81924 features and 100% of the variance: 112\n"
     ]
    }
   ],
   "source": [
    "# Note: the number of examples limits the number of components in PCA\n",
    "# This means that you can only keep a very small number of features if you use the\n",
    "# trajectory modeling subjects as a proxy for feature selection\n",
    "\n",
    "frac_variance = [.99, .999, .9999, .99999999999]\n",
    "tstart = time.time()\n",
    "for f in frac_variance:\n",
    "    pca = PCA(n_components=f, svd_solver='full')\n",
    "    pca.fit(X)\n",
    "    pc = pca.components_\n",
    "    #X_reduced[n] = X @ pc.T\n",
    "    print(\"Time required with {} features, {} examples, and {:.0f}% of the variance: {}\".format(\n",
    "        X.shape[1], X.shape[0], f*100, time.time() - tstart))\n",
    "    print(\"Number of components with {} features and {:.0f}% of the variance: {}\".format(\n",
    "        X.shape[1], f*100, pca.n_components_))\n",
    "    tstart = time.time()"
   ]
  },
  {
   "cell_type": "code",
   "execution_count": 55,
   "metadata": {
    "collapsed": true
   },
   "outputs": [],
   "source": [
    "# Save the components\n",
    "# To transform new examples into the reduced feature space: X @ pc.T\n",
    "\n",
    "pca = PCA(n_components=100)\n",
    "pca.fit(X)\n",
    "pc = pca.components_\n",
    "np.save(\"pcs_from_trajectory_modeling_subjects.npy\", pc)"
   ]
  },
  {
   "cell_type": "code",
   "execution_count": 6,
   "metadata": {},
   "outputs": [],
   "source": [
    "data = [20, 36, 51, 83]\n",
    "df = pd.DataFrame(data, index=[80, 90, 95, 99])\n",
    "plt.figure(); df.plot()\n",
    "plt.title(\"X = NxM \\n N = 114 subjects \\n M = 81924 features\");\n",
    "plt.xlabel('Variance explained (%)'); plt.ylabel('Number of components'); \n",
    "plt.savefig('var_n_components.png')"
   ]
  },
  {
   "cell_type": "code",
   "execution_count": null,
   "metadata": {
    "collapsed": true
   },
   "outputs": [],
   "source": []
  }
 ],
 "metadata": {
  "kernelspec": {
   "display_name": "Python 3",
   "language": "python",
   "name": "python3"
  },
  "language_info": {
   "codemirror_mode": {
    "name": "ipython",
    "version": 3
   },
   "file_extension": ".py",
   "mimetype": "text/x-python",
   "name": "python",
   "nbconvert_exporter": "python",
   "pygments_lexer": "ipython3",
   "version": "3.6.4"
  }
 },
 "nbformat": 4,
 "nbformat_minor": 2
}
