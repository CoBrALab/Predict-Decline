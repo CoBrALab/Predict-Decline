{
 "cells": [
  {
   "cell_type": "code",
   "execution_count": 71,
   "metadata": {},
   "outputs": [],
   "source": [
    "import numpy as np\n",
    "import pandas as pd\n",
    "import matplotlib.pyplot as plt\n",
    "\n",
    "import pickle as pkl\n",
    "import glob"
   ]
  },
  {
   "cell_type": "code",
   "execution_count": 69,
   "metadata": {},
   "outputs": [
    {
     "name": "stdout",
     "output_type": "stream",
     "text": [
      "Original data accuracy with LSN method: 0.8229\n",
      "Missing data accuracy with LSN method: 0.8079\n",
      "New 12 months data accuracy with LSN method: 0.8286\n",
      "Original data accuracy with ANN method: 0.8542\n",
      "Missing data accuracy with ANN method: 0.8770\n",
      "New 12 months data accuracy with ANN method: 0.8707\n",
      "Original data accuracy with SVM method: 0.8816\n",
      "Missing data accuracy with SVM method: 0.8906\n",
      "New 12 months data accuracy with SVM method: 0.8771\n",
      "Original data accuracy with RF method: 0.8566\n",
      "Missing data accuracy with RF method: 0.8600\n",
      "New 12 months data accuracy with RF method: 0.8599\n",
      "Original data accuracy with LR method: 0.8764\n",
      "Missing data accuracy with LR method: 0.8821\n",
      "New 12 months data accuracy with LR method: 0.8643\n",
      "[[0.82288557 0.80794702 0.82857143]\n",
      " [0.85415282 0.87702128 0.87070064]\n",
      " [0.88156146 0.8906383  0.87707006]\n",
      " [0.85664452 0.86       0.85987261]\n",
      " [0.87641196 0.88212766 0.86433121]]\n"
     ]
    }
   ],
   "source": [
    "# compute the average accuracy per batch of data\n",
    "df = pd.read_csv(\"Exp_502_602_combined.csv\") # the combined data file\n",
    "table = np.zeros((5, 3))\n",
    "\n",
    "# list through all the experiments (both trajectories)\n",
    "for k, m in enumerate(['LSN', 'ANN', 'SVM', 'RF', 'LR']):\n",
    "    stats = {'OK': [0, 0], 'New': [0, 0], 'Add': [0, 0]}\n",
    "    \n",
    "    for filename in glob.glob('results/Exp_Mar18_grid_search/{}*78_GridSearch_perf_df.pkl'.format(m)):\n",
    "        with open(filename, 'rb') as f:\n",
    "            data = pkl.load(f)\n",
    "\n",
    "        for i in range(10):\n",
    "            if 'subject_id' in data[i].keys():\n",
    "                subject_id = data[i]['subject_id']\n",
    "                label = data[i]['label'] # true trajectory\n",
    "                pred_prob = np.array(data[i]['pred_prob']) # predicted trajectory\n",
    "\n",
    "                for j in range(subject_id.shape[0]):\n",
    "                    # status = 'OK', 'New', or 'Add'\n",
    "                    # OK: Nikhil original data\n",
    "                    # New: data obtained after first CIVET batch (missing data)\n",
    "                    # Add: data obtained after second CIVET batch (missing 12 months time point)\n",
    "                    status = df[df['PTID'] == subject_id[j]]['STATUS'].values[0]\n",
    "\n",
    "                    y_pred = np.argmax(pred_prob[j])\n",
    "                    stats[status][1] += 1 # count total number of predictions\n",
    "                    if label[j] == y_pred: \n",
    "                        stats[status][0] += 1 # count correct predictions\n",
    "\n",
    "    print(\"Original data accuracy with {} method: {:.4f}\".format(m, stats['OK'][0] / stats['OK'][1]))\n",
    "    print(\"Missing data accuracy with {} method: {:.4f}\".format(m, stats['New'][0] / stats['New'][1]))\n",
    "    print(\"New 12 months data accuracy with {} method: {:.4f}\".format(m, stats['Add'][0] / stats['Add'][1]))\n",
    "    \n",
    "    table[k][0] = stats['OK'][0] / stats['OK'][1]\n",
    "    table[k][1] = stats['New'][0] / stats['New'][1]\n",
    "    table[k][2] = stats['Add'][0] / stats['Add'][1]\n",
    "print(table)"
   ]
  },
  {
   "cell_type": "code",
   "execution_count": 50,
   "metadata": {},
   "outputs": [
    {
     "name": "stdout",
     "output_type": "stream",
     "text": [
      "Statistics of original data: {'BE': [0.3637873754152824, 0.19435215946843853], 'FE': [0.09302325581395349, 0.14451827242524917], 'CC': [0.07807308970099668, 0.12624584717607973]}\n",
      "Statistics of missing data: {'BE': [0.4723404255319149, 0.12340425531914893], 'FE': [0.08936170212765958, 0.10212765957446808], 'CC': [0.1148936170212766, 0.09787234042553192]}\n",
      "Statistics of new 12 months data: {'BE': [0.4968152866242038, 0.17197452229299362], 'FE': [0.14012738853503184, 0.025477707006369428], 'CC': [0.11464968152866242, 0.050955414012738856]}\n"
     ]
    }
   ],
   "source": [
    "# investigate differences between batches of data\n",
    "\n",
    "nikhil_ok = df[df[\"STATUS\"] == \"OK\"] # original Nikhil data\n",
    "stats = {'BE': [0, 0], 'FE': [0, 0], 'CC': [0, 0]}\n",
    "for index, row in nikhil_ok.iterrows():\n",
    "    stats[row['MMSE_gr']][row['MMSE_2c_traj']] += 1\n",
    "sample_size = nikhil_ok.values.shape[0]\n",
    "for key in stats.keys():\n",
    "    stats[key][0] /= float(sample_size)\n",
    "    stats[key][1] /= float(sample_size)\n",
    "print(\"Statistics of original data: {}\".format(stats))\n",
    "\n",
    "charles_new = df[df[\"STATUS\"] == \"New\"] # Charles collected missing data\n",
    "stats = {'BE': [0, 0], 'FE': [0, 0], 'CC': [0, 0]}\n",
    "for index, row in charles_new.iterrows():\n",
    "    stats[row['MMSE_gr']][row['MMSE_2c_traj']] += 1\n",
    "sample_size = charles_new.values.shape[0]\n",
    "for key in stats.keys():\n",
    "    stats[key][0] /= float(sample_size)\n",
    "    stats[key][1] /= float(sample_size)\n",
    "print(\"Statistics of missing data: {}\".format(stats))\n",
    "\n",
    "charles_add = df[df[\"STATUS\"] == \"Add\"] # Charles 12 months new data\n",
    "stats = {'BE': [0, 0], 'FE': [0, 0], 'CC': [0, 0]}\n",
    "for index, row in charles_add.iterrows():\n",
    "    stats[row['MMSE_gr']][row['MMSE_2c_traj']] += 1\n",
    "sample_size = charles_add.values.shape[0]\n",
    "for key in stats.keys():\n",
    "    stats[key][0] /= float(sample_size)\n",
    "    stats[key][1] /= float(sample_size)\n",
    "print(\"Statistics of new 12 months data: {}\".format(stats))"
   ]
  },
  {
   "cell_type": "code",
   "execution_count": 86,
   "metadata": {},
   "outputs": [
    {
     "data": {
      "image/png": "[encoded data removed]",
      "text/plain": [
       "<matplotlib.figure.Figure at 0x7fda00169cf8>"
      ]
     },
     "metadata": {},
     "output_type": "display_data"
    }
   ],
   "source": [
    "# plot a summary of the model performances\n",
    "\n",
    "fig, ax = plt.subplots(figsize=(16,9))\n",
    "\n",
    "bar_width = 0.30\n",
    "opacity = 0.4\n",
    "\n",
    "rects1 = ax.bar(np.arange(5), table[:,0], bar_width, alpha=opacity, color='r', label='Original')\n",
    "rects2 = ax.bar(np.arange(5) + bar_width, table[:,1], bar_width, alpha=opacity, color='g', label='New (batch 1)')\n",
    "rects3 = ax.bar(np.arange(5) + 2*bar_width, table[:,2], bar_width, alpha=opacity, color='b', label='New (batch 2)')\n",
    "\n",
    "ax.set_xlabel('Method', fontsize=16)\n",
    "ax.set_ylabel('Accuracy', fontsize=16)\n",
    "ax.set_title('Accuracy scores by method and by batch of data (BL+followup, CT+CA)', fontsize=20)\n",
    "ax.set_xticks(np.arange(5) + bar_width)\n",
    "ax.set_xticklabels(('LSN', 'ANN', 'SVM', 'RF', 'LR'))\n",
    "ax.set_ylim(0.7, 0.9)\n",
    "\n",
    "ax.legend()\n",
    "\n",
    "fig.tight_layout()\n",
    "plt.savefig(\"verify_performance.png\")\n",
    "plt.show()"
   ]
  },
  {
   "cell_type": "code",
   "execution_count": null,
   "metadata": {},
   "outputs": [],
   "source": [
    "# verify if some other variables lead to a change in perfo"
   ]
  }
 ],
 "metadata": {
  "kernelspec": {
   "display_name": "Python 3",
   "language": "python",
   "name": "python3"
  },
  "language_info": {
   "codemirror_mode": {
    "name": "ipython",
    "version": 3
   },
   "file_extension": ".py",
   "mimetype": "text/x-python",
   "name": "python",
   "nbconvert_exporter": "python",
   "pygments_lexer": "ipython3",
   "version": "3.6.4"
  }
 },
 "nbformat": 4,
 "nbformat_minor": 2
}
